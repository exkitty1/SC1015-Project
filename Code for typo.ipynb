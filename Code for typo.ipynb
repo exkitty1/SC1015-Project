{
 "cells": [
  {
   "cell_type": "code",
   "execution_count": 15,
   "id": "a136b8e4",
   "metadata": {},
   "outputs": [
    {
     "data": {
      "text/plain": [
       "0.7407407407407407"
      ]
     },
     "execution_count": 15,
     "metadata": {},
     "output_type": "execute_result"
    }
   ],
   "source": [
    "import pandas as pd\n",
    "import itertools\n",
    "from difflib import SequenceMatcher\n",
    "\n",
    "def similarity(a,b):\n",
    "    seq = SequenceMatcher(a=a, b=b)\n",
    "    return seq.ratio()    \n",
    "\n",
    "strings = ['the Godfather','the gyatfather']\n",
    "combinations = itertools.combinations(strings,2)\n",
    "\n",
    "df = pd.DataFrame(list(combinations))\n",
    "df['similarity'] = df.apply(lambda x: similarity(x[0],x[1]), axis=1)\n",
    "\n",
    "df.similarity.mean()"
   ]
  },
  {
   "cell_type": "code",
   "execution_count": null,
   "id": "f34c996c",
   "metadata": {},
   "outputs": [],
   "source": []
  }
 ],
 "metadata": {
  "kernelspec": {
   "display_name": "Python 3 (ipykernel)",
   "language": "python",
   "name": "python3"
  },
  "language_info": {
   "codemirror_mode": {
    "name": "ipython",
    "version": 3
   },
   "file_extension": ".py",
   "mimetype": "text/x-python",
   "name": "python",
   "nbconvert_exporter": "python",
   "pygments_lexer": "ipython3",
   "version": "3.11.5"
  }
 },
 "nbformat": 4,
 "nbformat_minor": 5
}
