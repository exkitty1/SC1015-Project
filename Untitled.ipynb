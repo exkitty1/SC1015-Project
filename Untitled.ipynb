{
 "cells": [
  {
   "cell_type": "code",
   "execution_count": 21,
   "id": "db38bc3d-8412-4992-81b4-9e3f43a6794f",
   "metadata": {},
   "outputs": [],
   "source": [
    "import pandas as pd \n",
    "import numpy as np\n",
    "import itertools\n",
    "from difflib import SequenceMatcher\n",
    "from sklearn.metrics.pairwise import cosine_similarity\n",
    "from sklearn import preprocessing\n",
    "from sklearn.feature_extraction.text import CountVectorizer\n",
    "\n",
    "def similarity(a,b):\n",
    "    seq = SequenceMatcher(a=a,b=b)\n",
    "    return seq.ratio()\n",
    "\n",
    "movies_data = pd.read_csv('imdb_top_1000.csv')\n",
    "genre_list = []\n",
    "movie_genres = movies_data['Genre'].to_list()\n",
    "for genre in movie_genres:\n",
    "    for i in genre.split(', '):\n",
    "        if i not in genre_list:\n",
    "            genre_list.append(i)\n",
    "movie_names = movies_data['Series_Title'].to_list()\n",
    "lower_movie_names = [name.lower() for name in movie_names]\n",
    "director_list = movies_data['Director'].to_list()\n",
    "lower_director_list = [name.lower() for name in director_list]\n",
    "movie_actors = movies_data['Star1'].to_list() + movies_data['Star2'].to_list() + movies_data['Star3'].to_list() + movies_data['Star4'].to_list()\n",
    "movie_actors = list(set(movie_actors))\n",
    "lower_movie_actors = [name.lower() for name in movie_actors]"
   ]
  },
  {
   "cell_type": "code",
   "execution_count": 22,
   "id": "e4126439-b834-4043-98b1-5e497db56610",
   "metadata": {},
   "outputs": [
    {
     "name": "stdin",
     "output_type": "stream",
     "text": [
      "1)Search based on title\n",
      "2)Search based on genre, director and actor\n",
      "3)Quit\n",
      "input:  2\n",
      "Please input a movie genre (key in -1 to end):  -1\n"
     ]
    },
    {
     "name": "stdout",
     "output_type": "stream",
     "text": [
      "Target genres are\n"
     ]
    },
    {
     "name": "stdin",
     "output_type": "stream",
     "text": [
      "Please input a movie director (key in -1 to ignore):  -1\n"
     ]
    },
    {
     "name": "stdout",
     "output_type": "stream",
     "text": [
      "Target director is \n"
     ]
    },
    {
     "name": "stdin",
     "output_type": "stream",
     "text": [
      "Please input an actor (key in -1 to end):  robert de niro\n"
     ]
    },
    {
     "name": "stdout",
     "output_type": "stream",
     "text": [
      "Actor found\n"
     ]
    },
    {
     "name": "stdin",
     "output_type": "stream",
     "text": [
      "Please input an actor (key in -1 to end):  al pacino\n"
     ]
    },
    {
     "name": "stdout",
     "output_type": "stream",
     "text": [
      "Actor found\n"
     ]
    },
    {
     "name": "stdin",
     "output_type": "stream",
     "text": [
      "Please input an actor (key in -1 to end):  -1\n"
     ]
    },
    {
     "name": "stdout",
     "output_type": "stream",
     "text": [
      "Target actors are Robert De Niro Al Pacino\n"
     ]
    }
   ],
   "source": [
    "option = ''\n",
    "target = ''\n",
    "target_genres = []\n",
    "target_director = ''\n",
    "target_actors = []\n",
    "done = False\n",
    "while not done:\n",
    "    user_input = input(\"1)Search based on title\\n2)Search based on genre, director and actor\\n3)Quit\\ninput: \")\n",
    "    option = user_input\n",
    "    if user_input == '1':\n",
    "        movie_title = input(\"Please input a movie title and our code will generate a list of recommended movies for you (case insensitive): \").lower()\n",
    "        target = movie_title\n",
    "        if target in lower_movie_names:\n",
    "            print(\"Movie title found\")\n",
    "            index = lower_movie_names.index(target)\n",
    "            target = movie_names[index]\n",
    "            print(\"Target movie is \" + target)\n",
    "            done = True\n",
    "        else:\n",
    "            dic = {}\n",
    "            for movie in lower_movie_names:\n",
    "                dic[movie] = similarity(target,movie)\n",
    "            dic = sorted(dic.items(), key = lambda x:x[1], reverse = True)\n",
    "            guess = movie_names[lower_movie_names.index(dic[0][0])]\n",
    "            temp = input(\"Did you mean \" + guess + \"? Y/N\").lower()\n",
    "            if temp == \"y\":\n",
    "                target = guess\n",
    "                done = True\n",
    "            else:\n",
    "                pass\n",
    "    elif user_input == '2':\n",
    "        movie_genre = input(\"Please input a movie genre (key in -1 to end): \").capitalize()\n",
    "        while movie_genre != '-1':\n",
    "            if movie_genre in genre_list:\n",
    "                print(\"Genre found\")\n",
    "                target_genres.append(movie_genre)\n",
    "            else:\n",
    "                print(\"Genre not found\")\n",
    "            movie_genre = input(\"Please input a movie genre (key in -1 to end): \").capitalize()\n",
    "        string = \"Target genres are\"\n",
    "        for genre in target_genres:\n",
    "            string = string + \" \" + genre\n",
    "        print(string)\n",
    "        movie_director = input(\"Please input a movie director (key in -1 to ignore): \").lower()\n",
    "        while movie_director != '-1':\n",
    "            if movie_director in lower_director_list:\n",
    "                print(\"Director found\")\n",
    "                index = lower_director_list.index(movie_director)\n",
    "                target_director = director_list[index]\n",
    "                movie_director = '-1'\n",
    "            else:\n",
    "                print(\"Director not found\")\n",
    "                movie_director = input(\"Please input a movie director (key in -1 to ignore): \").lower()\n",
    "        print(\"Target director is \" + target_director)\n",
    "        movie_actor = input(\"Please input an actor (key in -1 to end): \").lower()\n",
    "        while movie_actor != '-1':\n",
    "            if movie_actor in lower_movie_actors:\n",
    "                print(\"Actor found\")\n",
    "                index = lower_movie_actors.index(movie_actor)\n",
    "                movie_actor = movie_actors[index]\n",
    "                target_actors.append(movie_actor)\n",
    "            else:\n",
    "                print(\"Actor not found\")\n",
    "            movie_actor = input(\"Please input an actor (key in -1 to end): \").lower()\n",
    "        string = \"Target actors are\"\n",
    "        for actor in target_actors:\n",
    "            string = string + \" \" + actor\n",
    "        print(string)\n",
    "        done = True\n",
    "    else:\n",
    "        done = True"
   ]
  },
  {
   "cell_type": "code",
   "execution_count": 23,
   "id": "acb0d945-2051-4667-9e0b-fc1f51d4b349",
   "metadata": {},
   "outputs": [
    {
     "data": {
      "text/plain": [
       "\"\\nclean = movies_data.drop(columns = ['Poster_Link','Series_Title'])\\ntemp = preprocessing.LabelEncoder()\\nclean = clean.apply(temp.fit_transform)\\ntarget_series = clean.iloc[[index]]\\nclean['Cosine'] = cosine_similarity(clean,target_series)\\nindexes = clean['Cosine'].sort_values(ascending = False).index.tolist()[1:4]\\nfor index in indexes:\\n    print(movies_data.iloc[index])\\n    print('\\n')\\n\""
      ]
     },
     "execution_count": 23,
     "metadata": {},
     "output_type": "execute_result"
    }
   ],
   "source": [
    "'''\n",
    "clean = movies_data.drop(columns = ['Poster_Link','Series_Title'])\n",
    "temp = preprocessing.LabelEncoder()\n",
    "clean = clean.apply(temp.fit_transform)\n",
    "target_series = clean.iloc[[index]]\n",
    "clean['Cosine'] = cosine_similarity(clean,target_series)\n",
    "indexes = clean['Cosine'].sort_values(ascending = False).index.tolist()[1:4]\n",
    "for index in indexes:\n",
    "    print(movies_data.iloc[index])\n",
    "    print('\\n')\n",
    "'''"
   ]
  },
  {
   "cell_type": "code",
   "execution_count": 24,
   "id": "b01df93a-a14e-45a2-8412-bdfc0af738b6",
   "metadata": {},
   "outputs": [],
   "source": [
    "if option == '1':\n",
    "    clean = movies_data.drop(columns = ['Poster_Link','Series_Title'])\n",
    "    for header in clean.columns:\n",
    "        clean[header] = clean[header].fillna('')\n",
    "    def combined(row):\n",
    "        return str(row['Released_Year']) + \" \" + row['Certificate'] + \" \" + str(row['Runtime']) + \" \" + row['Genre'] + \" \" + str(row['IMDB_Rating']) + \" \" +  row['Overview'] + \" \" + str(row['Meta_score']) + \" \" + row['Director'] + \" \" + row['Star1'] + \" \" +  row['Star2'] + \" \" + row['Star3'] + \" \" + row['Star4'] + \" \" + str(row['No_of_Votes']) + \" \" + str(row['Gross'])\n",
    "    clean['Combined'] = clean.apply(combined,axis = 1)\n",
    "    count_vectorizer = CountVectorizer(stop_words = \"english\")\n",
    "    count_matrix = count_vectorizer.fit_transform(clean['Combined'])\n",
    "    cos_sim = cosine_similarity(count_matrix.toarray().tolist())\n",
    "    similar_movies = list(enumerate(cos_sim[index]))\n",
    "    sorted_similar_movies = sorted(similar_movies,key = lambda x:x[1],reverse = True)\n",
    "    for movie in sorted_similar_movies[1:6]:\n",
    "        print(movies_data.iloc[movie[0]])\n",
    "        print('\\n')"
   ]
  },
  {
   "cell_type": "code",
   "execution_count": 57,
   "id": "8fdccf86-091e-423a-9456-edec78097325",
   "metadata": {},
   "outputs": [
    {
     "name": "stdout",
     "output_type": "stream",
     "text": [
      "Poster_Link      https://m.media-amazon.com/images/M/MV5BMGUyM2...\n",
      "Series_Title                                          The Irishman\n",
      "Released_Year                                                 2019\n",
      "Certificate                                                      R\n",
      "Runtime                                                    209 min\n",
      "Genre                                      Biography, Crime, Drama\n",
      "IMDB_Rating                                                    7.9\n",
      "Overview         An old man recalls his time painting houses fo...\n",
      "Meta_score                                                    94.0\n",
      "Director                                           Martin Scorsese\n",
      "Star1                                               Robert De Niro\n",
      "Star2                                                    Al Pacino\n",
      "Star3                                                    Joe Pesci\n",
      "Star4                                                Harvey Keitel\n",
      "No_of_Votes                                                 324720\n",
      "Gross                                                    7,000,000\n",
      "Name: 484, dtype: object\n",
      "Poster_Link      https://m.media-amazon.com/images/M/MV5BMWMwMG...\n",
      "Series_Title                                The Godfather: Part II\n",
      "Released_Year                                                 1974\n",
      "Certificate                                                      A\n",
      "Runtime                                                    202 min\n",
      "Genre                                                 Crime, Drama\n",
      "IMDB_Rating                                                    9.0\n",
      "Overview         The early life and career of Vito Corleone in ...\n",
      "Meta_score                                                    90.0\n",
      "Director                                      Francis Ford Coppola\n",
      "Star1                                                    Al Pacino\n",
      "Star2                                               Robert De Niro\n",
      "Star3                                                Robert Duvall\n",
      "Star4                                                 Diane Keaton\n",
      "No_of_Votes                                                1129952\n",
      "Gross                                                   57,300,000\n",
      "Name: 3, dtype: object\n",
      "Poster_Link      https://m.media-amazon.com/images/M/MV5BNGMwNz...\n",
      "Series_Title                                                  Heat\n",
      "Released_Year                                                 1995\n",
      "Certificate                                                      A\n",
      "Runtime                                                    170 min\n",
      "Genre                                       Crime, Drama, Thriller\n",
      "IMDB_Rating                                                    8.2\n",
      "Overview         A group of professional bank robbers start to ...\n",
      "Meta_score                                                    76.0\n",
      "Director                                              Michael Mann\n",
      "Star1                                                    Al Pacino\n",
      "Star2                                               Robert De Niro\n",
      "Star3                                                   Val Kilmer\n",
      "Star4                                                   Jon Voight\n",
      "No_of_Votes                                                 577113\n",
      "Gross                                                   67,436,818\n",
      "Name: 164, dtype: object\n",
      "Poster_Link      https://m.media-amazon.com/images/M/MV5BM2M1Mm...\n",
      "Series_Title                                           Taxi Driver\n",
      "Released_Year                                                 1976\n",
      "Certificate                                                      A\n",
      "Runtime                                                    114 min\n",
      "Genre                                                 Crime, Drama\n",
      "IMDB_Rating                                                    8.3\n",
      "Overview         A mentally unstable veteran works as a nightti...\n",
      "Meta_score                                                    94.0\n",
      "Director                                           Martin Scorsese\n",
      "Star1                                               Robert De Niro\n",
      "Star2                                                 Jodie Foster\n",
      "Star3                                              Cybill Shepherd\n",
      "Star4                                                Albert Brooks\n",
      "No_of_Votes                                                 724636\n",
      "Gross                                                   28,262,574\n",
      "Name: 111, dtype: object\n",
      "Poster_Link      https://m.media-amazon.com/images/M/MV5BNjdjNG...\n",
      "Series_Title                                              Scarface\n",
      "Released_Year                                                 1983\n",
      "Certificate                                                      A\n",
      "Runtime                                                    170 min\n",
      "Genre                                                 Crime, Drama\n",
      "IMDB_Rating                                                    8.3\n",
      "Overview         In 1980 Miami, a determined Cuban immigrant ta...\n",
      "Meta_score                                                    65.0\n",
      "Director                                            Brian De Palma\n",
      "Star1                                                    Al Pacino\n",
      "Star2                                            Michelle Pfeiffer\n",
      "Star3                                                 Steven Bauer\n",
      "Star4                                  Mary Elizabeth Mastrantonio\n",
      "No_of_Votes                                                 740911\n",
      "Gross                                                   45,598,982\n",
      "Name: 108, dtype: object\n"
     ]
    }
   ],
   "source": [
    "if option == '2':\n",
    "    if len(target_genres) == 0:\n",
    "        if len(target_director) == 0:\n",
    "            if len(target_actors) == 0:\n",
    "                for i in range(5):\n",
    "                    print(movies_data.sort_values(by = ['IMDB_Rating'],ascending = False).iloc[i])\n",
    "            else:\n",
    "                actors = pd.DataFrame(data = movies_data[[\"Star1\",\"Star2\",\"Star3\",\"Star4\"]])\n",
    "                for header in actors.columns:\n",
    "                    actors[header] = actors[header].fillna('')\n",
    "                def combined(row):\n",
    "                    return row['Star1'] + \" \" + row['Star2'] + \" \" + row['Star3'] + \" \" + row['Star4']\n",
    "                actors['Combined'] = actors.apply(combined,axis = 1)\n",
    "                actors['No.'] = 0\n",
    "                for actor in target_actors:\n",
    "                    for i in range(len(actors)):\n",
    "                        if actor in actors.iloc[i]['Combined']:\n",
    "                            actors.loc[i,['No.']] += 1\n",
    "                sorted_similar_movies = actors.sort_values(by = 'No.',ascending = False)\n",
    "                for i in range(5):\n",
    "                    print(movies_data.iloc[sorted_similar_movies.index.to_list()[i]])"
   ]
  },
  {
   "cell_type": "code",
   "execution_count": null,
   "id": "2759f753-b0d7-41e1-b660-f58e09ad7fdd",
   "metadata": {},
   "outputs": [],
   "source": []
  }
 ],
 "metadata": {
  "kernelspec": {
   "display_name": "Python 3 (ipykernel)",
   "language": "python",
   "name": "python3"
  },
  "language_info": {
   "codemirror_mode": {
    "name": "ipython",
    "version": 3
   },
   "file_extension": ".py",
   "mimetype": "text/x-python",
   "name": "python",
   "nbconvert_exporter": "python",
   "pygments_lexer": "ipython3",
   "version": "3.11.5"
  }
 },
 "nbformat": 4,
 "nbformat_minor": 5
}
