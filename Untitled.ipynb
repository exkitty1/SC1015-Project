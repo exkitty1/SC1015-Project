{
 "cells": [
  {
   "cell_type": "code",
   "execution_count": 1,
   "id": "db38bc3d-8412-4992-81b4-9e3f43a6794f",
   "metadata": {},
   "outputs": [],
   "source": [
    "import pandas as pd \n",
    "import numpy as np\n",
    "from sklearn.metrics.pairwise import cosine_similarity\n",
    "from sklearn import preprocessing\n",
    "from sklearn.feature_extraction.text import CountVectorizer\n",
    " \n",
    "# Load the preprocessed data into a Pandas DataFrame \n",
    "movies_data = pd.read_csv('imdb_top_1000.csv')"
   ]
  },
  {
   "cell_type": "code",
   "execution_count": 2,
   "id": "e4126439-b834-4043-98b1-5e497db56610",
   "metadata": {},
   "outputs": [
    {
     "name": "stdin",
     "output_type": "stream",
     "text": [
      "Please input a movie name and our code will generate a list of recommended movies for you:  The godfather\n"
     ]
    },
    {
     "name": "stdout",
     "output_type": "stream",
     "text": [
      "Found movie\n",
      "Target movie is The Godfather\n"
     ]
    }
   ],
   "source": [
    "movie_names = movies_data['Series_Title'].to_list()\n",
    "lower_movie_names = [name.lower() for name in movie_names]\n",
    "target = ''\n",
    "done = False\n",
    "while not done:\n",
    "    user_input = input(\"Please input a movie name and our code will generate a list of recommended movies for you: \").lower()\n",
    "    if user_input in lower_movie_names:\n",
    "        target = user_input\n",
    "        print(\"Found movie\")\n",
    "        done = True\n",
    "    else:\n",
    "        print(\"Movie not found\")\n",
    "index = lower_movie_names.index(target)\n",
    "target = movie_names[index]\n",
    "print(\"Target movie is \" + target)"
   ]
  },
  {
   "cell_type": "code",
   "execution_count": 3,
   "id": "acb0d945-2051-4667-9e0b-fc1f51d4b349",
   "metadata": {},
   "outputs": [
    {
     "data": {
      "text/plain": [
       "\"\\nclean = movies_data.drop(columns = ['Poster_Link','Series_Title'])\\ntemp = preprocessing.LabelEncoder()\\nclean = clean.apply(temp.fit_transform)\\ntarget_series = clean.iloc[[index]]\\nclean['Cosine'] = cosine_similarity(clean,target_series)\\nindexes = clean['Cosine'].sort_values(ascending = False).index.tolist()[1:4]\\nfor index in indexes:\\n    print(movies_data.iloc[index])\\n    print('\\n')\\n\""
      ]
     },
     "execution_count": 3,
     "metadata": {},
     "output_type": "execute_result"
    }
   ],
   "source": [
    "'''\n",
    "clean = movies_data.drop(columns = ['Poster_Link','Series_Title'])\n",
    "temp = preprocessing.LabelEncoder()\n",
    "clean = clean.apply(temp.fit_transform)\n",
    "target_series = clean.iloc[[index]]\n",
    "clean['Cosine'] = cosine_similarity(clean,target_series)\n",
    "indexes = clean['Cosine'].sort_values(ascending = False).index.tolist()[1:4]\n",
    "for index in indexes:\n",
    "    print(movies_data.iloc[index])\n",
    "    print('\\n')\n",
    "'''"
   ]
  },
  {
   "cell_type": "code",
   "execution_count": 4,
   "id": "b01df93a-a14e-45a2-8412-bdfc0af738b6",
   "metadata": {},
   "outputs": [
    {
     "name": "stdout",
     "output_type": "stream",
     "text": [
      "Poster_Link      https://m.media-amazon.com/images/M/MV5BNWFlYW...\n",
      "Series_Title                               The Godfather: Part III\n",
      "Released_Year                                                 1990\n",
      "Certificate                                                      A\n",
      "Runtime                                                    162 min\n",
      "Genre                                                 Crime, Drama\n",
      "IMDB_Rating                                                    7.6\n",
      "Overview         Follows Michael Corleone, now in his 60s, as h...\n",
      "Meta_score                                                    60.0\n",
      "Director                                      Francis Ford Coppola\n",
      "Star1                                                    Al Pacino\n",
      "Star2                                                 Diane Keaton\n",
      "Star3                                                  Andy Garcia\n",
      "Star4                                                  Talia Shire\n",
      "No_of_Votes                                                 359809\n",
      "Gross                                                   66,666,062\n",
      "Name: 974, dtype: object\n",
      "\n",
      "\n",
      "Poster_Link      https://m.media-amazon.com/images/M/MV5BMWMwMG...\n",
      "Series_Title                                The Godfather: Part II\n",
      "Released_Year                                                 1974\n",
      "Certificate                                                      A\n",
      "Runtime                                                    202 min\n",
      "Genre                                                 Crime, Drama\n",
      "IMDB_Rating                                                    9.0\n",
      "Overview         The early life and career of Vito Corleone in ...\n",
      "Meta_score                                                    90.0\n",
      "Director                                      Francis Ford Coppola\n",
      "Star1                                                    Al Pacino\n",
      "Star2                                               Robert De Niro\n",
      "Star3                                                Robert Duvall\n",
      "Star4                                                 Diane Keaton\n",
      "No_of_Votes                                                1129952\n",
      "Gross                                                   57,300,000\n",
      "Name: 3, dtype: object\n",
      "\n",
      "\n",
      "Poster_Link      https://m.media-amazon.com/images/M/MV5BNTYzN2...\n",
      "Series_Title                                   Glengarry Glen Ross\n",
      "Released_Year                                                 1992\n",
      "Certificate                                                      R\n",
      "Runtime                                                    100 min\n",
      "Genre                                        Crime, Drama, Mystery\n",
      "IMDB_Rating                                                    7.7\n",
      "Overview         An examination of the machinations behind the ...\n",
      "Meta_score                                                    82.0\n",
      "Director                                               James Foley\n",
      "Star1                                                    Al Pacino\n",
      "Star2                                                  Jack Lemmon\n",
      "Star3                                                 Alec Baldwin\n",
      "Star4                                                   Alan Arkin\n",
      "No_of_Votes                                                  95826\n",
      "Gross                                                   10,725,228\n",
      "Name: 823, dtype: object\n",
      "\n",
      "\n",
      "Poster_Link      https://m.media-amazon.com/images/M/MV5BYWFjMD...\n",
      "Series_Title                                                  Rope\n",
      "Released_Year                                                 1948\n",
      "Certificate                                                      A\n",
      "Runtime                                                     80 min\n",
      "Genre                                        Crime, Drama, Mystery\n",
      "IMDB_Rating                                                    8.0\n",
      "Overview         Two men attempt to prove they committed the pe...\n",
      "Meta_score                                                    73.0\n",
      "Director                                          Alfred Hitchcock\n",
      "Star1                                                James Stewart\n",
      "Star2                                                    John Dall\n",
      "Star3                                               Farley Granger\n",
      "Star4                                                   Dick Hogan\n",
      "No_of_Votes                                                 129783\n",
      "Gross                                                          NaN\n",
      "Name: 450, dtype: object\n",
      "\n",
      "\n",
      "Poster_Link      https://m.media-amazon.com/images/M/MV5BMDdhOD...\n",
      "Series_Title                                        Apocalypse Now\n",
      "Released_Year                                                 1979\n",
      "Certificate                                                      R\n",
      "Runtime                                                    147 min\n",
      "Genre                                          Drama, Mystery, War\n",
      "IMDB_Rating                                                    8.4\n",
      "Overview         A U.S. Army officer serving in Vietnam is task...\n",
      "Meta_score                                                    94.0\n",
      "Director                                      Francis Ford Coppola\n",
      "Star1                                                 Martin Sheen\n",
      "Star2                                                Marlon Brando\n",
      "Star3                                                Robert Duvall\n",
      "Star4                                             Frederic Forrest\n",
      "No_of_Votes                                                 606398\n",
      "Gross                                                   83,471,511\n",
      "Name: 74, dtype: object\n",
      "\n",
      "\n"
     ]
    }
   ],
   "source": [
    "clean = movies_data.drop(columns = ['Poster_Link','Series_Title'])\n",
    "for header in clean.columns:\n",
    "    clean[header] = clean[header].fillna('')\n",
    "def combined(row):\n",
    "    return str(row['Released_Year']) + \" \" + row['Certificate'] + \" \" + str(row['Runtime']) + \" \" + row['Genre'] + \" \" + str(row['IMDB_Rating']) + \" \" +  row['Overview'] + \" \" + str(row['Meta_score']) + \" \" + row['Director'] + \" \" + row['Star1'] + \" \" +  row['Star2'] + \" \" + row['Star3'] + \" \" + row['Star4'] + \" \" + str(row['No_of_Votes']) + \" \" + str(row['Gross'])\n",
    "clean['Combined'] = clean.apply(combined,axis = 1)\n",
    "count_vectorizer = CountVectorizer(stop_words = \"english\")\n",
    "count_matrix = count_vectorizer.fit_transform(clean['Combined'])\n",
    "cos_sim = cosine_similarity(count_matrix.toarray().tolist())\n",
    "similar_movies = list(enumerate(cos_sim[index]))\n",
    "sorted_similar_movies = sorted(similar_movies,key = lambda x:x[1],reverse = True)\n",
    "for movie in sorted_similar_movies[1:6]:\n",
    "    print(movies_data.iloc[movie[0]])\n",
    "    print('\\n')"
   ]
  },
  {
   "cell_type": "code",
   "execution_count": null,
   "id": "2dd7d17f-da9a-4bf1-9609-65308782a15d",
   "metadata": {},
   "outputs": [],
   "source": []
  }
 ],
 "metadata": {
  "kernelspec": {
   "display_name": "Python 3 (ipykernel)",
   "language": "python",
   "name": "python3"
  },
  "language_info": {
   "codemirror_mode": {
    "name": "ipython",
    "version": 3
   },
   "file_extension": ".py",
   "mimetype": "text/x-python",
   "name": "python",
   "nbconvert_exporter": "python",
   "pygments_lexer": "ipython3",
   "version": "3.11.5"
  }
 },
 "nbformat": 4,
 "nbformat_minor": 5
}
